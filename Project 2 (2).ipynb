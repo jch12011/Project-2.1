{
 "cells": [
  {
   "cell_type": "code",
   "execution_count": 5,
   "metadata": {},
   "outputs": [
    {
     "name": "stdout",
     "output_type": "stream",
     "text": [
      "the velociy leaving Earths SOI is  2.928 km/s\n",
      "the amount of propellant it takes to leave Earths SOI is 12122.834 kg\n",
      "the velociy to circulize mars is 2.637 km/s\n",
      "the velociy to reach Mars is 2.928 km/s\n",
      "the amount of propellant it takes to reach Mars is 6244.31 kg\n",
      "the amount of propellant it takes to circulize Mars is 5265.786 kg\n",
      "the time it takes to reach Mars is 258.83 days\n",
      "The time it takes to leave Earth's sphere of influence is 12.199 mins\n",
      "the amount of time it takes to circulize Mars is 2.637 mins\n",
      "the total propellant is  23632.93 kg\n",
      "the total time is  258.846 days\n"
     ]
    }
   ],
   "source": [
    "import numpy as np\n",
    "import math\n",
    "mu_earth = 398600\n",
    "mu_mars = 42828\n",
    "R_Earth = 149600000\n",
    "g_Earth = 0.009807\n",
    "g_Mars = 0.003711\n",
    "isp = 450\n",
    "thrust_re = 100\n",
    "m = 25000\n",
    "L_1 = 321710.307\n",
    "R_Earth = 149600000\n",
    "R_Mars = 227900000\n",
    "mu_sun = 1.3271E11\n",
    "r_2 = 223600000\n",
    "r_1 = 147260000 + L_1\n",
    "delta_vd = math.sqrt(mu_sun/r_1) * (math.sqrt((2*r_2)/(r_1+r_2))-1)\n",
    "print(\"the velociy leaving Earths SOI is \", round(delta_vd,3), \"km/s\")\n",
    "delta_m1 = m * (1 - math.exp(-delta_vd/(isp*g_Earth)))\n",
    "print(\"the amount of propellant it takes to leave Earths SOI is\", round(delta_m1,3), \"kg\")\n",
    "delta_va = math.sqrt(mu_sun/r_2) * (1 - math.sqrt((2*r_1)/(r_1+r_2)))\n",
    "print(\"the velociy to circulize mars is\", round(delta_va,3), \"km/s\")\n",
    "delta_v2 = math.sqrt(mu_sun/r_1) * (math.sqrt((2*r_2)/(r_1+r_2))-1)\n",
    "print(\"the velociy to reach Mars is\", round(delta_v2,3), \"km/s\")\n",
    "delta_m2 = (m - delta_m1) * (1 - math.exp(-delta_vd/(isp*g_Earth)))\n",
    "print(\"the amount of propellant it takes to reach Mars is\", round(delta_m2,3), \"kg\")\n",
    "delta_m3 = (m - delta_m2 - delta_m1) * (1 - math.exp(-delta_va/(isp*g_Mars)))\n",
    "print(\"the amount of propellant it takes to circulize Mars is\", round(delta_m3,3), \"kg\")\n",
    "transit_t = (math.pi / math.sqrt(mu_sun)) * (((R_Earth + R_Mars) / 2)**(3/2))\n",
    "transit_t = transit_t / (60*60*24)\n",
    "print(\"the time it takes to reach Mars is\",round(transit_t,3), \"days\")\n",
    "delta_t1 = (m*delta_vd)/(thrust_re)\n",
    "print(\"The time it takes to leave Earth's sphere of influence is\", round(delta_t1/60,3), 'mins')\n",
    "delta_t1 = delta_t1 / (60*60*24)\n",
    "delta_t3 = (m*delta_va)/(thrust_re)\n",
    "print(\"the amount of time it takes to circulize Mars is\", round(delta_va,3), \"mins\")\n",
    "delta_t3 = delta_t3 / (60*60*24)\n",
    "total_time = delta_t3 + delta_t1 + transit_t\n",
    "total_propellant = delta_m1 + delta_m2 + delta_m3\n",
    "print(\"the total propellant is \", round(total_propellant,3), \"kg\")\n",
    "print(\"the total time is \", round(total_time,3), \"days\")"
   ]
  },
  {
   "cell_type": "raw",
   "metadata": {},
   "source": []
  }
 ],
 "metadata": {
  "kernelspec": {
   "display_name": "Python 3",
   "language": "python",
   "name": "python3"
  },
  "language_info": {
   "codemirror_mode": {
    "name": "ipython",
    "version": 3
   },
   "file_extension": ".py",
   "mimetype": "text/x-python",
   "name": "python",
   "nbconvert_exporter": "python",
   "pygments_lexer": "ipython3",
   "version": "3.8.3"
  }
 },
 "nbformat": 4,
 "nbformat_minor": 4
}
